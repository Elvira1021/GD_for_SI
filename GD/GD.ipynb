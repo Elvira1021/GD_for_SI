{
 "cells": [
  {
   "cell_type": "code",
   "execution_count": 2,
   "metadata": {},
   "outputs": [],
   "source": [
    "import pandas as pd\n",
    "import statsmodels.formula.api as smf\n",
    "import numpy as np\n",
    "import sys\n",
    "import math\n",
    "sys.path.append(\"..\") \n",
    "from scipy import stats\n",
    "from utils import * "
   ]
  },
  {
   "attachments": {},
   "cell_type": "markdown",
   "metadata": {},
   "source": [
    "<h3>单变量回归"
   ]
  },
  {
   "attachments": {},
   "cell_type": "markdown",
   "metadata": {},
   "source": [
    "广东省 人口"
   ]
  },
  {
   "cell_type": "code",
   "execution_count": null,
   "metadata": {},
   "outputs": [],
   "source": [
    "region='GD'\n",
    "variate='pop'\n",
    "countydf=pd.read_csv('../Data/'+region+'/'+region+'_county_flow_detail.csv')\n",
    "citydf=pd.read_csv('../Data/'+region+'/'+region+'_city_flow_detail.csv')\n",
    "county_city_rela=load_relation('../Data/'+region+'/city_county_rela.csv')\n",
    "\n",
    "variatelist=['o_'+variate+'_l','d_'+variate+'_l','dist_l']\n",
    "formula = \"{}~{}\".format(\"flow_intensity_l\", \"+\".join(variatelist))\n",
    "\n",
    "cityres = smf.ols(formula = formula, data = citydf).fit()     \n",
    "print(cityres.summary())\n",
    "countyres=smf.ols(formula = formula, data = countydf).fit() \n",
    "print(countyres.summary())"
   ]
  },
  {
   "cell_type": "code",
   "execution_count": null,
   "metadata": {},
   "outputs": [],
   "source": [
    "county_pred = np.exp(cityres.predict(countydf))\n",
    "county_fit = np.exp(countyres.predict(countydf))\n",
    "city_fit=np.exp(cityres.predict(citydf))\n",
    "countydf['GM_'+variate+'_pred']=county_pred\n",
    "print(\"【预测county】\")\n",
    "evaluate(county_pred,countydf['flow_intensity'])\n",
    "print(\"【county+系数调整】\")\n",
    "countydf=finetuning(countydf,county_city_rela,citydf,'GM_'+variate+'_pred')\n",
    "evaluate(countydf['GM_'+variate+'_pred_finetune'],countydf['flow_intensity'])"
   ]
  },
  {
   "attachments": {},
   "cell_type": "markdown",
   "metadata": {},
   "source": [
    "广东省 面积"
   ]
  },
  {
   "cell_type": "code",
   "execution_count": null,
   "metadata": {},
   "outputs": [],
   "source": [
    "region='GD'\n",
    "variate='area'\n",
    "countydf=pd.read_csv('../Data/'+region+'/'+region+'_county_flow_detail.csv')\n",
    "citydf=pd.read_csv('../Data/'+region+'/'+region+'_city_flow_detail.csv')\n",
    "county_city_rela=load_relation('../Data/'+region+'/city_county_rela.csv')\n",
    "\n",
    "variatelist=['o_'+variate+'_l','d_'+variate+'_l','dist_l']\n",
    "formula = \"{}~{}\".format(\"flow_intensity_l\", \"+\".join(variatelist))\n",
    "\n",
    "cityres = smf.ols(formula = formula, data = citydf).fit()     \n",
    "print(cityres.summary())\n",
    "countyres=smf.ols(formula = formula, data = countydf).fit() \n",
    "print(countyres.summary())"
   ]
  },
  {
   "cell_type": "code",
   "execution_count": null,
   "metadata": {},
   "outputs": [],
   "source": [
    "county_pred = np.exp(cityres.predict(countydf))\n",
    "county_fit = np.exp(countyres.predict(countydf))\n",
    "city_fit=np.exp(cityres.predict(citydf))\n",
    "countydf['GM_'+variate+'_pred']=county_pred\n",
    "print(\"【预测county】\")\n",
    "evaluate(county_pred,countydf['flow_intensity'])\n",
    "print(\"【county+系数调整】\")\n",
    "countydf=finetuning(countydf,county_city_rela,citydf,'GM_'+variate+'_pred')\n",
    "evaluate(countydf['GM_'+variate+'_pred_finetune'],countydf['flow_intensity'])"
   ]
  },
  {
   "attachments": {},
   "cell_type": "markdown",
   "metadata": {},
   "source": [
    "广东省 GDP"
   ]
  },
  {
   "cell_type": "code",
   "execution_count": null,
   "metadata": {},
   "outputs": [],
   "source": [
    "region='GD'\n",
    "variate='gdp'\n",
    "countydf=pd.read_csv('../Data/'+region+'/'+region+'_county_flow_detail.csv')\n",
    "citydf=pd.read_csv('../Data/'+region+'/'+region+'_city_flow_detail.csv')\n",
    "county_city_rela=load_relation('../Data/'+region+'/city_county_rela.csv')\n",
    "\n",
    "variatelist=['o_'+variate+'_l','d_'+variate+'_l','dist_l']\n",
    "formula = \"{}~{}\".format(\"flow_intensity_l\", \"+\".join(variatelist))\n",
    "\n",
    "cityres = smf.ols(formula = formula, data = citydf).fit()     \n",
    "print(cityres.summary())\n",
    "countyres=smf.ols(formula = formula, data = countydf).fit() \n",
    "print(countyres.summary())"
   ]
  },
  {
   "cell_type": "code",
   "execution_count": null,
   "metadata": {},
   "outputs": [],
   "source": [
    "county_pred = np.exp(cityres.predict(countydf))\n",
    "county_fit = np.exp(countyres.predict(countydf))\n",
    "city_fit=np.exp(cityres.predict(citydf))\n",
    "countydf['GM_'+variate+'_pred']=county_pred\n",
    "print(\"【预测county】\")\n",
    "evaluate(county_pred,countydf['flow_intensity'])\n",
    "print(\"【预测county+系数调整】\")\n",
    "countydf=finetuning(countydf,county_city_rela,citydf,'GM_'+variate+'_pred')\n",
    "evaluate(countydf['GM_'+variate+'_pred_finetune'],countydf['flow_intensity'])"
   ]
  }
 ],
 "metadata": {
  "kernelspec": {
   "display_name": "Python 3.10.8",
   "language": "python",
   "name": "python3"
  },
  "language_info": {
   "codemirror_mode": {
    "name": "ipython",
    "version": 3
   },
   "file_extension": ".py",
   "mimetype": "text/x-python",
   "name": "python",
   "nbconvert_exporter": "python",
   "pygments_lexer": "ipython3",
   "version": "3.10.8"
  },
  "orig_nbformat": 4,
  "vscode": {
   "interpreter": {
    "hash": "dce45e97dbcc4a1939057275bd0592c2a9a94a75493c87ea93550a7116e295cc"
   }
  }
 },
 "nbformat": 4,
 "nbformat_minor": 2
}
