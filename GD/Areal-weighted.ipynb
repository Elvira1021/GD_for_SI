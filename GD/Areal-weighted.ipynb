{
 "cells": [
  {
   "cell_type": "code",
   "execution_count": 1,
   "metadata": {},
   "outputs": [],
   "source": [
    "import pandas as pd\n",
    "import numpy as np\n",
    "import sys\n",
    "import math\n",
    "sys.path.append(\"..\") \n",
    "from scipy import stats\n",
    "from utils import *\n"
   ]
  },
  {
   "cell_type": "code",
   "execution_count": 2,
   "metadata": {},
   "outputs": [],
   "source": [
    "def areaFI(countydf,county_city_rela,citydf,areatype):\n",
    "    cityflow={}\n",
    "    countyflow={}\n",
    "    countyarea={}\n",
    "    for i in countydf.iterrows():\n",
    "        countyarea[(i[1]['startcode'],i[1]['endcode'])]=(i[1]['o_'+areatype],i[1]['d_'+areatype])\n",
    "    for i in citydf.iterrows():\n",
    "        cityflow[(i[1]['startcode'],i[1]['endcode'])]=i[1]['flow_intensity']\n",
    "    for _ in range(5):\n",
    "        for i in citydf.iterrows():\n",
    "            origin_start_id=i[1]['startcode']\n",
    "            origin_end_id=i[1]['endcode']\n",
    "            start_ids=county_city_rela[origin_start_id]\n",
    "            end_ids=county_city_rela[origin_end_id]\n",
    "            startarea=0 #i[1]['o_'+areatype]\n",
    "            startlst=[]\n",
    "            endarea=0 #i[1]['o_'+areatype]\n",
    "            endlst=[]\n",
    "            for k in start_ids:\n",
    "                for b in end_ids:\n",
    "                    if((k,b) in countyarea):\n",
    "                        if(k not in startlst):\n",
    "                            startlst.append(k)\n",
    "                            startarea+=countyarea[(k,b)][0]\n",
    "                        if(b not in endlst):\n",
    "                            endlst.append(b)\n",
    "                            endarea+=countyarea[(k,b)][1]\n",
    "            allsum=0\n",
    "            for k in start_ids:\n",
    "                for b in end_ids:\n",
    "                    if((k,b) in countyarea):\n",
    "                        p1=countyarea[(k,b)][0]/startarea\n",
    "                        p2=countyarea[(k,b)][1]/endarea\n",
    "                        # print(p1,p2)\n",
    "                        allsum+=(p1*p2)\n",
    "                        countyflow[(k,b)]=p1*p2*cityflow[(origin_start_id,origin_end_id)]\n",
    "                        # allsum+=countyflow[(k,b)]\n",
    "            # print(allsum)\n",
    "    # print(countyflow)\n",
    "    county_flow_finetune=[]\n",
    "    for i in countydf.iterrows():\n",
    "        county_flow_finetune.append(countyflow[(i[1]['startcode'],i[1]['endcode'])])\n",
    "    countydf['county_flow_finetune']=county_flow_finetune   \n",
    "    # print(sum(county_flow_finetune),sum(citydf['flow_intensity']),sum(countydf['flow_intensity']))\n",
    "    return countydf"
   ]
  },
  {
   "attachments": {},
   "cell_type": "markdown",
   "metadata": {},
   "source": [
    "<h2>广东省"
   ]
  },
  {
   "cell_type": "code",
   "execution_count": null,
   "metadata": {},
   "outputs": [],
   "source": [
    "region='GD'\n",
    "areatype = 'area' # or 'build_area' or'pop' or 'area'\n",
    "\n",
    "countydf=pd.read_csv('../Data/'+region+'/'+region+'_county_flow_detail.csv')\n",
    "citydf=pd.read_csv('../Data/'+region+'/'+region+'_city_flow_detail.csv')\n",
    "county_city_rela=load_relation('../Data/'+region+'/city_county_rela.csv')\n",
    "\n",
    "countydf=areaFI(countydf,county_city_rela,citydf,areatype)\n",
    "evaluate(countydf['county_flow_finetune'],countydf['flow_intensity'])"
   ]
  }
 ],
 "metadata": {
  "kernelspec": {
   "display_name": "Python 3",
   "language": "python",
   "name": "python3"
  },
  "language_info": {
   "codemirror_mode": {
    "name": "ipython",
    "version": 3
   },
   "file_extension": ".py",
   "mimetype": "text/x-python",
   "name": "python",
   "nbconvert_exporter": "python",
   "pygments_lexer": "ipython3",
   "version": "3.10.8"
  },
  "orig_nbformat": 4
 },
 "nbformat": 4,
 "nbformat_minor": 2
}
