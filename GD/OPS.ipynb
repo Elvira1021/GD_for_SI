{
 "cells": [
  {
   "cell_type": "code",
   "execution_count": 1,
   "metadata": {},
   "outputs": [],
   "source": [
    "import pandas as pd\n",
    "import statsmodels.formula.api as smf\n",
    "import numpy as np\n",
    "import sys\n",
    "import math\n",
    "sys.path.append(\"..\") \n",
    "from scipy import stats\n",
    "from utils import * "
   ]
  },
  {
   "attachments": {},
   "cell_type": "markdown",
   "metadata": {},
   "source": [
    "机会优先选择模型（Opportunity priority selection model，OPS）\n",
    "$$P_{ij}=\\frac{m_j}{m_i+S_{ij}+m_j}$$\n",
    "$$F_{ij}=O_iP_{ij}$$\n",
    "$$O_i={\\theta}Pop_i$$"
   ]
  },
  {
   "attachments": {},
   "cell_type": "markdown",
   "metadata": {},
   "source": [
    "<h3>广东省"
   ]
  },
  {
   "cell_type": "code",
   "execution_count": 9,
   "metadata": {},
   "outputs": [],
   "source": [
    "region='GD'\n",
    "\n",
    "#load city data\n",
    "citydf=pd.read_csv('../Data/'+region+'/'+region+'_city_flow_detail_log.csv')\n",
    "city_Dist=np.genfromtxt('../Data/'+region+'/city_adj.csv', dtype=np.float32,delimiter=',')\n",
    "city_attr_df=pd.read_csv('../Data/'+region+'/'+region+'_city_attr.csv')\n",
    "city_idx_map=Get_idxmap(city_attr_df)\n",
    "city_flow=np.genfromtxt('../Data/'+region+'/'+'city_flow_matrix.csv', dtype=np.int32,delimiter=',')\n",
    "\n",
    "#load county data\n",
    "countydf=pd.read_csv('../Data/'+region+'/'+region+'_county_flow_detail_log.csv')\n",
    "county_Dist=np.genfromtxt('../Data/'+region+'/county_adj.csv', dtype=np.float32,delimiter=',')\n",
    "county_attr_df=pd.read_csv('../Data/'+region+'/'+region+'_county_attr.csv')\n",
    "county_idx_map=Get_idxmap(county_attr_df)\n",
    "\n",
    "#load relation data\n",
    "county_city_rela=load_relation('../Data/'+region+'/city_county_rela.csv')"
   ]
  },
  {
   "cell_type": "markdown",
   "metadata": {},
   "source": [
    "人口\n",
    "$$m_i=pop_i$$"
   ]
  },
  {
   "cell_type": "code",
   "execution_count": null,
   "metadata": {},
   "outputs": [],
   "source": [
    "variate='pop'\n",
    "\n",
    "city_attr_list=list(city_attr_df[variate])\n",
    "county_attr_list=list(county_attr_df[variate])\n",
    "\n",
    "citydf=Fit_OPSmodel(citydf,city_idx_map,city_Dist,city_attr_df,variate) \n",
    "countydf=Fit_OPSmodel(countydf,county_idx_map,county_Dist,county_attr_df,variate)\n",
    "\n",
    "cityres = smf.ols(formula = 'flow_intensity~-1+{}'.format(variate+'_prob'), data = citydf).fit()\n",
    "citydf['OPSflow']=cityres.predict(citydf)\n",
    "\n",
    "countydf['OPSflow']=cityres.predict(countydf)\n",
    "evaluate(countydf['OPSflow'],countydf['flow_intensity'])\n",
    "countydf=finetuning(countydf,county_city_rela,citydf,'OPSflow')\n",
    "evaluate(countydf['OPSflow_finetune'],countydf['flow_intensity'])"
   ]
  },
  {
   "cell_type": "code",
   "execution_count": null,
   "metadata": {},
   "outputs": [],
   "source": [
    "variate='gdp'\n",
    "\n",
    "city_attr_list=list(city_attr_df[variate])\n",
    "county_attr_list=list(county_attr_df[variate])\n",
    "\n",
    "citydf=Fit_OPSmodel(citydf,city_idx_map,city_Dist,city_attr_df,variate) \n",
    "countydf=Fit_OPSmodel(countydf,county_idx_map,county_Dist,county_attr_df,variate)\n",
    "\n",
    "cityres = smf.ols(formula = 'flow_intensity~-1+{}'.format(variate+'_prob'), data = citydf).fit()\n",
    "citydf['OPSflow']=cityres.predict(citydf)\n",
    "\n",
    "countydf['OPSflow']=cityres.predict(countydf)\n",
    "evaluate(countydf['OPSflow'],countydf['flow_intensity'])\n",
    "countydf=finetuning(countydf,county_city_rela,citydf,'OPSflow')\n",
    "evaluate(countydf['OPSflow_finetune'],countydf['flow_intensity'])"
   ]
  }
 ],
 "metadata": {
  "kernelspec": {
   "display_name": "Python 3",
   "language": "python",
   "name": "python3"
  },
  "language_info": {
   "codemirror_mode": {
    "name": "ipython",
    "version": 3
   },
   "file_extension": ".py",
   "mimetype": "text/x-python",
   "name": "python",
   "nbconvert_exporter": "python",
   "pygments_lexer": "ipython3",
   "version": "3.10.8"
  },
  "orig_nbformat": 4
 },
 "nbformat": 4,
 "nbformat_minor": 2
}
