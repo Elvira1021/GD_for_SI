{
 "cells": [
  {
   "cell_type": "code",
   "execution_count": 1,
   "metadata": {},
   "outputs": [],
   "source": [
    "import pandas as pd\n",
    "import statsmodels.formula.api as smf\n",
    "import numpy as np\n",
    "import sys\n",
    "import math\n",
    "sys.path.append(\"..\") \n",
    "from scipy import stats\n",
    "from utils import * "
   ]
  },
  {
   "attachments": {},
   "cell_type": "markdown",
   "metadata": {},
   "source": [
    "单参数辐射模型\n",
    "$$F_{ij}=O_i[\\frac{m_im_j}{(m_i+S_{ij}+m_j)(m_i+S_{ij})}]^{\\lambda}$$\n",
    "$$O_i={\\theta}Pop_i$$\n",
    "两边取log\n",
    "$$logF_{ij}=log{\\theta}+logPop_i+\\frac{m_im_j}{(m_i+S_{ij}+m_j)(m_i+S_{ij})}$$\n",
    "$$logF_{ij}-logPop_i=log{\\theta}+{\\lambda}log\\frac{m_im_j}{(m_i+S_{ij}+m_j)(m_i+S_{ij})}$$"
   ]
  },
  {
   "attachments": {},
   "cell_type": "markdown",
   "metadata": {},
   "source": [
    "<h3>广东省"
   ]
  },
  {
   "cell_type": "code",
   "execution_count": 4,
   "metadata": {},
   "outputs": [],
   "source": [
    "region='GD'\n",
    "\n",
    "#load city data\n",
    "citydf=pd.read_csv('../Data/'+region+'/'+region+'_city_flow_detail_log.csv')\n",
    "city_Dist=np.genfromtxt('../Data/'+region+'/city_adj.csv', dtype=np.float32,delimiter=',')\n",
    "city_attr_df=pd.read_csv('../Data/'+region+'/'+region+'_city_attr.csv')\n",
    "city_idx_map=Get_idxmap(city_attr_df)\n",
    "city_flow=np.genfromtxt('../Data/'+region+'/'+'city_flow_matrix.csv', dtype=np.int32,delimiter=',')\n",
    "\n",
    "#load county data\n",
    "countydf=pd.read_csv('../Data/'+region+'/'+region+'_county_flow_detail_log.csv')\n",
    "county_Dist=np.genfromtxt('../Data/'+region+'/county_adj.csv', dtype=np.float32,delimiter=',')\n",
    "county_attr_df=pd.read_csv('../Data/'+region+'/'+region+'_county_attr.csv')\n",
    "county_idx_map=Get_idxmap(county_attr_df)\n",
    "\n",
    "#load relation data\n",
    "county_city_rela=load_relation('../Data/'+region+'/city_county_rela.csv')"
   ]
  },
  {
   "cell_type": "markdown",
   "metadata": {},
   "source": [
    "人口\n",
    "$$m_i=pop_i$$"
   ]
  },
  {
   "cell_type": "code",
   "execution_count": null,
   "metadata": {},
   "outputs": [],
   "source": [
    "variate='pop'\n",
    "city_attr_list=list(city_attr_df[variate])\n",
    "county_attr_list=list(county_attr_df[variate])\n",
    "\n",
    "citydf=Fit_RMmodel(citydf,city_idx_map,city_Dist,city_attr_df,variate) \n",
    "countydf=Fit_RMmodel(countydf,county_idx_map,county_Dist,county_attr_df,variate)\n",
    "citydf['y']=citydf['flow_intensity_l']-citydf['o_pop_l']\n",
    "countydf['y']=countydf['flow_intensity_l']-countydf['o_pop_l']\n",
    "\n",
    "cityres = smf.ols(formula = 'y~{}'.format(variate+'_prob_l'), data = citydf).fit()\n",
    "\n",
    "citydf['RMflow']=np.exp(cityres.predict(citydf)+citydf['o_pop_l'])\n",
    "countydf['RMflow']=np.exp(cityres.predict(countydf)+countydf['o_pop_l'])\n",
    "\n",
    "evaluate(countydf['RMflow'],countydf['flow_intensity'])\n",
    "countydf=finetuning(countydf,county_city_rela,citydf,'RMflow')\n",
    "evaluate(countydf['RMflow_finetune'],countydf['flow_intensity'])"
   ]
  },
  {
   "cell_type": "code",
   "execution_count": null,
   "metadata": {},
   "outputs": [],
   "source": [
    "variate='gdp'\n",
    "city_attr_list=list(city_attr_df[variate])\n",
    "county_attr_list=list(county_attr_df[variate])\n",
    "\n",
    "citydf=Fit_RMmodel(citydf,city_idx_map,city_Dist,city_attr_df,variate) \n",
    "countydf=Fit_RMmodel(countydf,county_idx_map,county_Dist,county_attr_df,variate)\n",
    "citydf['y']=citydf['flow_intensity_l']-citydf['o_pop_l']\n",
    "countydf['y']=countydf['flow_intensity_l']-countydf['o_pop_l']\n",
    "\n",
    "cityres = smf.ols(formula = 'y~{}'.format(variate+'_prob_l'), data = citydf).fit()\n",
    "\n",
    "citydf['RMflow']=np.exp(cityres.predict(citydf)+citydf['o_pop_l'])\n",
    "countydf['RMflow']=np.exp(cityres.predict(countydf)+countydf['o_pop_l'])\n",
    "\n",
    "evaluate(countydf['RMflow'],countydf['flow_intensity'])\n",
    "countydf=finetuning(countydf,county_city_rela,citydf,'RMflow')\n",
    "evaluate(countydf['RMflow_finetune'],countydf['flow_intensity'])"
   ]
  }
 ],
 "metadata": {
  "kernelspec": {
   "display_name": "Python 3",
   "language": "python",
   "name": "python3"
  },
  "language_info": {
   "codemirror_mode": {
    "name": "ipython",
    "version": 3
   },
   "file_extension": ".py",
   "mimetype": "text/x-python",
   "name": "python",
   "nbconvert_exporter": "python",
   "pygments_lexer": "ipython3",
   "version": "3.10.8"
  },
  "orig_nbformat": 4
 },
 "nbformat": 4,
 "nbformat_minor": 2
}
