{
 "cells": [
  {
   "cell_type": "code",
   "execution_count": 1,
   "metadata": {},
   "outputs": [],
   "source": [
    "import pandas as pd\n",
    "import statsmodels.formula.api as smf\n",
    "import numpy as np\n",
    "import sys\n",
    "import math\n",
    "sys.path.append(\"..\") \n",
    "from scipy import stats\n",
    "from utils import * "
   ]
  },
  {
   "attachments": {},
   "cell_type": "markdown",
   "metadata": {},
   "source": [
    "<h3>广东"
   ]
  },
  {
   "cell_type": "code",
   "execution_count": null,
   "metadata": {},
   "outputs": [],
   "source": [
    "region='GD'\n",
    "variate=['pop','third','area']\n",
    "countydf=pd.read_csv('../Data/'+region+'/'+region+'_county_flow_detail.csv')\n",
    "citydf=pd.read_csv('../Data/'+region+'/'+region+'_city_flow_detail.csv')\n",
    "county_city_rela=load_relation('../Data/'+region+'/city_county_rela.csv')\n",
    "\n",
    "variatelist=['dist_l']\n",
    "for v in variate:\n",
    "    variatelist.append('o_'+v+'_l')\n",
    "    variatelist.append('d_'+v+'_l')\n",
    "print(variatelist)\n",
    "formula = \"{}~{}\".format(\"flow_intensity_l\", \"+\".join(variatelist))\n",
    "print(formula)\n",
    "\n",
    "cityres = smf.ols(formula = formula, data = citydf).fit()     \n",
    "print(cityres.summary())\n",
    "countyres=smf.ols(formula = formula, data = countydf).fit() \n",
    "print(countyres.summary())\n",
    "city_fit=np.exp(cityres.predict(citydf))\n",
    "\n",
    "print(\"【city拟合】\")\n",
    "evaluate(city_fit,citydf['flow_intensity'])"
   ]
  },
  {
   "cell_type": "code",
   "execution_count": null,
   "metadata": {},
   "outputs": [],
   "source": [
    "county_pred = np.exp(cityres.predict(countydf))\n",
    "county_fit = np.exp(countyres.predict(countydf))\n",
    "city_fit=np.exp(cityres.predict(citydf))\n",
    "countydf['GM_pred']=county_pred\n",
    "print(\"【预测county】\")\n",
    "evaluate(county_pred,countydf['flow_intensity'])\n",
    "print(\"【预测county+系数调整】\")\n",
    "countydf=finetuning(countydf,county_city_rela,citydf,'GM_pred')\n",
    "evaluate(countydf['GM_pred_finetune'],countydf['flow_intensity'])"
   ]
  }
 ],
 "metadata": {
  "kernelspec": {
   "display_name": "Python 3",
   "language": "python",
   "name": "python3"
  },
  "language_info": {
   "codemirror_mode": {
    "name": "ipython",
    "version": 3
   },
   "file_extension": ".py",
   "mimetype": "text/x-python",
   "name": "python",
   "nbconvert_exporter": "python",
   "pygments_lexer": "ipython3",
   "version": "3.10.8"
  },
  "orig_nbformat": 4
 },
 "nbformat": 4,
 "nbformat_minor": 2
}
